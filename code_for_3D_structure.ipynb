{
 "cells": [
  {
   "attachments": {},
   "cell_type": "markdown",
   "id": "3dae898f",
   "metadata": {},
   "source": [
    "#### 3D structure based on NGLview\n",
    "#conda install nglview -c conda-forge    \n",
    "#conda upgrade nglview --force   \n",
    "#jupyter-nbextension enable nglview --py --sys-prefix   \n",
    "#jupyter notebook --NotebookApp.iopub_data_rate_limit=10000000   \n",
    "\n",
    "#import nglview as nv   \n",
    "#nv.show_structure_file('\\.pdb')   "
   ]
  },
  {
   "cell_type": "code",
   "execution_count": null,
   "id": "4cc6357f",
   "metadata": {},
   "outputs": [],
   "source": [
    "import os\n",
    "import panel as pn\n",
    "import nglview as nv\n",
    "\n",
    "pn.config.js_files[\"ngl\"]=\"https://cdn.jsdelivr.net/gh/arose/ngl@v2.0.0-dev.33/dist/ngl.js\"\n",
    "pn.extension(comms='default') # [default, ipywidgets, vscode, colab]\n",
    "list2=sorted(os.listdir('pdb_files'))\n",
    "list_files=list2[1:]\n",
    "protein_plot_select=pn.widgets.Select(name='protein name',options=list_files)\n",
    "@pn.depends(protein_plot_select, watch=True)\n",
    "def protein_3D(protein):\n",
    "    path = os.path.join('pdb_files', protein)\n",
    "    html = f\"\"\"<div id=\"viewport\" style=\"width:100%; height:100%;\"></div> \n",
    "    <script> \n",
    "    \n",
    "    stage = new ngl.Stage(\"viewport\"); \n",
    "    stage.loadFile(\"{path}\", {\"{defaultRepresentation: true}\"}); \n",
    "    </script>\"\"\"\n",
    "    print(html)\n",
    "    ngl_pane = pn.pane.HTML(html, height=500, width=500)\n",
    "    return ngl_pane\n",
    "\n",
    "# pn.serve(pn.WidgetBox(protein_plot_select, protein_3D))\n",
    "pn.WidgetBox(protein_plot_select, protein_3D).servable()"
   ]
  }
 ],
 "metadata": {
  "kernelspec": {
   "display_name": "Python 3",
   "language": "python",
   "name": "python3"
  },
  "language_info": {
   "codemirror_mode": {
    "name": "ipython",
    "version": 3
   },
   "file_extension": ".py",
   "mimetype": "text/x-python",
   "name": "python",
   "nbconvert_exporter": "python",
   "pygments_lexer": "ipython3",
   "version": "3.8.8"
  }
 },
 "nbformat": 4,
 "nbformat_minor": 5
}
